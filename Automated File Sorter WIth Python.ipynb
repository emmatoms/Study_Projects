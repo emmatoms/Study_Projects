{
 "cells": [
  {
   "cell_type": "markdown",
   "id": "a4d48a6e",
   "metadata": {},
   "source": [
    "# Automated File Sorter in File Explorer"
   ]
  },
  {
   "cell_type": "code",
   "execution_count": 2,
   "id": "ec5a7309",
   "metadata": {},
   "outputs": [],
   "source": [
    " import os, shutil"
   ]
  },
  {
   "cell_type": "code",
   "execution_count": null,
   "id": "d50195f6",
   "metadata": {},
   "outputs": [],
   "source": [
    "# the path to the files in our system"
   ]
  },
  {
   "cell_type": "code",
   "execution_count": null,
   "id": "dccb61a7",
   "metadata": {},
   "outputs": [],
   "source": [
    "C:\\Users\\Henry Oguns\\Desktop\\DATA ANALYSIS\\6. Python\\BEGINNER PYTHON\\Python Tutorials"
   ]
  },
  {
   "cell_type": "code",
   "execution_count": null,
   "id": "5fb801e3",
   "metadata": {},
   "outputs": [],
   "source": [
    "# interchange the \\ with this /, for the command to run well"
   ]
  },
  {
   "cell_type": "code",
   "execution_count": 6,
   "id": "1eb24cd4",
   "metadata": {},
   "outputs": [],
   "source": [
    "path = r\"C:/Users/Henry Oguns/Desktop/DATA ANALYSIS/6. Python/BEGINNER PYTHON/Python Tutorials/\""
   ]
  },
  {
   "cell_type": "code",
   "execution_count": null,
   "id": "66e41ab1",
   "metadata": {},
   "outputs": [],
   "source": [
    "# looking at the folder path and everything in it"
   ]
  },
  {
   "cell_type": "code",
   "execution_count": 7,
   "id": "8ee6a3a2",
   "metadata": {
    "scrolled": true
   },
   "outputs": [
    {
     "data": {
      "text/plain": [
       "['!Agreement.txt',\n",
       " '0b6eb0f8a78457745e177ea460e7f2ec.jpg',\n",
       " 'BigMac_Index_by_Contry.csv',\n",
       " 'CRAZY 97Artboard 1.png']"
      ]
     },
     "execution_count": 7,
     "metadata": {},
     "output_type": "execute_result"
    }
   ],
   "source": [
    "os.listdir(path)"
   ]
  },
  {
   "cell_type": "code",
   "execution_count": 8,
   "id": "7ca8ee64",
   "metadata": {},
   "outputs": [],
   "source": [
    "# checking if the path on our computer exist"
   ]
  },
  {
   "cell_type": "code",
   "execution_count": 9,
   "id": "cd4dd95b",
   "metadata": {
    "scrolled": true
   },
   "outputs": [
    {
     "data": {
      "text/plain": [
       "False"
      ]
     },
     "execution_count": 9,
     "metadata": {},
     "output_type": "execute_result"
    }
   ],
   "source": [
    "os.path.exists(path + 'cvs files')"
   ]
  },
  {
   "cell_type": "code",
   "execution_count": 10,
   "id": "ceacbc3a",
   "metadata": {},
   "outputs": [],
   "source": [
    "# creating sub-folder in the file folder in our computer"
   ]
  },
  {
   "cell_type": "code",
   "execution_count": 15,
   "id": "37e181d2",
   "metadata": {},
   "outputs": [],
   "source": [
    "folder_names = ['cvs files', 'png files', 'jpg files', 'text files']\n",
    "\n",
    "for loop in range(0,4):\n",
    "    if not os.path.exists(path + folder_names[loop]):\n",
    "        print(path + folder_names[loop])\n",
    "        os.makedirs(path + folder_names[loop])\n",
    "    "
   ]
  },
  {
   "cell_type": "code",
   "execution_count": 16,
   "id": "85338964",
   "metadata": {},
   "outputs": [],
   "source": [
    "file_name = os.listdir(path)"
   ]
  },
  {
   "cell_type": "code",
   "execution_count": 18,
   "id": "8bf843c2",
   "metadata": {},
   "outputs": [],
   "source": [
    "for file in file_name:\n",
    "    if '.cvs' in file and not os.path.exists(path + 'cvs files/' + file):\n",
    "        shutil.move(path+file, path + 'cvs files/' + file)\n",
    "    if '.png' in file and not os.path.exists(path + 'png files/' + file):\n",
    "        shutil.move(path+file, path + 'png files/' + file)\n",
    "    if '.jpg' in file and not os.path.exists(path + 'jpg files/' + file):\n",
    "        shutil.move(path+file, path + 'jpg files/' + file)\n",
    "    if '.txt' in file and not os.path.exists(path + 'text files/' + file):\n",
    "        shutil.move(path+file, path + 'text files/' + file)"
   ]
  },
  {
   "cell_type": "code",
   "execution_count": null,
   "id": "6f908df7",
   "metadata": {},
   "outputs": [],
   "source": []
  }
 ],
 "metadata": {
  "kernelspec": {
   "display_name": "Python 3",
   "language": "python",
   "name": "python3"
  },
  "language_info": {
   "codemirror_mode": {
    "name": "ipython",
    "version": 3
   },
   "file_extension": ".py",
   "mimetype": "text/x-python",
   "name": "python",
   "nbconvert_exporter": "python",
   "pygments_lexer": "ipython3",
   "version": "3.8.8"
  }
 },
 "nbformat": 4,
 "nbformat_minor": 5
}
